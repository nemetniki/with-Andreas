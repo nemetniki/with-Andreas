{
 "cells": [
  {
   "cell_type": "code",
   "execution_count": 18,
   "metadata": {},
   "outputs": [],
   "source": [
    "import sympy as sym\n",
    "from IPython.display import display, Math, Latex\n",
    "sym.init_printing()\n",
    "\n",
    "delt,Del,Del1,Del2,Delf,Dela1,Dela2,kap1,kap2 = sym.symbols('\\delta \\Delta \\Delta_1 \\Delta_2 \\Delta_f \\Delta_{a1} \\Delta_{a2} \\kappa_1 \\kappa_2',real=True)\n",
    "g,G0        = sym.symbols('g G_0',real=True)\n",
    "a1,a2,bm2,bm1,b0,b1,b2,s,sm2,c,L       = sym.symbols('a_1 a_2 b_{-2} b_{-1} b_0 b_1 b_2 \\sigma_{-1} \\sigma_{-2} c L')\n",
    "\n",
    "Dyn = sym.Matrix([[0,g,0],[g,0,G0],\\\n",
    "                        [0,G0,Del]])\n",
    "Dyn_multi = sym.Matrix([[0,g,0,0,0],[g,0,G0,G0,G0],\\\n",
    "                        [0,G0,-Del,0,0],[0,G0,0,0,0],[0,G0,0,0,Del]])\n",
    "Drive = sym.Matrix([0,0,0])\n",
    "x     = sym.Matrix([s,a1,a2])\n",
    "#sym.solve(Dyn*x+Drive,x)\n",
    "#Dyn\n",
    "vec=Dyn.eigenvects()\n",
    "#vec_multi =Dyn_multi.eigenvects()"
   ]
  },
  {
   "cell_type": "code",
   "execution_count": 53,
   "metadata": {},
   "outputs": [],
   "source": [
    "N,xi,zeta,N2 = sym.symbols(r\"N,\\xi,\\zeta,N_2\")\n",
    "xi_expr   = -9*G0**2 - 2*Del**2 + 18*g**2\n",
    "zeta_expr = 3*G0**2 + Del**2 + 3*g**2 \n",
    "N_expr    = sym.cbrt(-2*Del**3 + 27*Del*g**2 - 9*Del*(G0**2+g**2) + sym.sqrt(Del**2*xi**2-4*zeta**3))\n",
    "N2_expr    = sym.cbrt(-Del**3 + 27*Del/2*g**2 + 9*Del/2*(-G0**2-g**2) + 1/2*sym.sqrt(-4*zeta**3+(-2*Del**3+27*Del*g**2+\n",
    "                                                                                                9*Del*(-G0**2-g**2))**2))\n"
   ]
  },
  {
   "cell_type": "code",
   "execution_count": 64,
   "metadata": {},
   "outputs": [
    {
     "data": {
      "image/png": "[encoded data removed]",
      "text/latex": [
       "$$\\frac{G_{0}}{- \\frac{12 N g^{2} \\left(1 - \\sqrt{3} i\\right)}{N \\left(1 - \\sqrt{3} i\\right) \\left(2^{\\frac{2}{3}} N \\left(1 - \\sqrt{3} i\\right) + 4 \\Delta\\right) + 8 \\sqrt[3]{2} \\zeta} + \\frac{\\Delta}{3} + \\frac{\\zeta}{3 \\left(\\frac{1}{2} - \\frac{\\sqrt{3} i}{2}\\right) \\sqrt[3]{- \\Delta^{3} + \\frac{27 \\Delta}{2} g^{2} + \\frac{9 \\Delta}{2} \\left(- G_{0}^{2} - g^{2}\\right) + \\frac{1}{2} \\sqrt{- 4 \\zeta^{3} + \\left(- 2 \\Delta^{3} + 27 \\Delta g^{2} + 9 \\Delta \\left(- G_{0}^{2} - g^{2}\\right)\\right)^{2}}}} + \\frac{1}{3} \\left(\\frac{1}{2} - \\frac{\\sqrt{3} i}{2}\\right) \\sqrt[3]{- \\Delta^{3} + \\frac{27 \\Delta}{2} g^{2} + \\frac{9 \\Delta}{2} \\left(- G_{0}^{2} - g^{2}\\right) + \\frac{1}{2} \\sqrt{- 4 \\zeta^{3} + \\left(- 2 \\Delta^{3} + 27 \\Delta g^{2} + 9 \\Delta \\left(- G_{0}^{2} - g^{2}\\right)\\right)^{2}}}}$$"
      ],
      "text/plain": [
       "                                                                              \n",
       "──────────────────────────────────────────────────────────────────────────────\n",
       "                                                                              \n",
       "                                                                              \n",
       "                                                                              \n",
       "                                                                              \n",
       "                                                                              \n",
       "                             2                                                \n",
       "                       12⋅N⋅g ⋅(1 - √3⋅ⅈ)                       \\Delta        \n",
       "- ─────────────────────────────────────────────────────────── + ────── + ─────\n",
       "               ⎛ 2/3                        ⎞     3 ___           3           \n",
       "  N⋅(1 - √3⋅ⅈ)⋅⎝2   ⋅N⋅(1 - √3⋅ⅈ) + 4⋅\\Delta⎠ + 8⋅╲╱ 2 ⋅\\zeta                 \n",
       "                                                                              \n",
       "                                                                              \n",
       "                                                                           ⎛1 \n",
       "                                                                         3⋅⎜─ \n",
       "                                                                           ⎝2 \n",
       "\n",
       "                                                                              \n",
       "──────────────────────────────────────────────────────────────────────────────\n",
       "                                                                              \n",
       "                                                                              \n",
       "                                                                              \n",
       "                                                                              \n",
       "                                                                              \n",
       "                                                                              \n",
       "                                                                 \\zeta        \n",
       "──────────────────────────────────────────────────────────────────────────────\n",
       "               _______________________________________________________________\n",
       "              ╱                                                        _______\n",
       "             ╱                                                        ╱       \n",
       "            ╱                          2            ⎛    2    2⎞     ╱        \n",
       "  √3⋅ⅈ⎞    ╱            3   27⋅\\Delta⋅g    9⋅\\Delta⋅⎝- G₀  - g ⎠   ╲╱   - 4⋅\\z\n",
       "- ────⎟⋅3 ╱     - \\Delta  + ──────────── + ───────────────────── + ───────────\n",
       "   2  ⎠ ╲╱                       2                   2                        \n",
       "\n",
       "                         G₀                                                   \n",
       "──────────────────────────────────────────────────────────────────────────────\n",
       "                                                                              \n",
       "                                                                              \n",
       "                                                                              \n",
       "                                                                              \n",
       "                                                                 ⎛1   √3⋅ⅈ⎞   \n",
       "                                                                 ⎜─ - ────⎟⋅3 \n",
       "                                                                 ⎝2    2  ⎠ ╲╱\n",
       "────────────────────────────────────────────────────────────── + ─────────────\n",
       "______________________________________________________________                \n",
       "_____________________________________________________________                 \n",
       "                                                           2                  \n",
       "   3   ⎛          3              2            ⎛    2    2⎞⎞                   \n",
       "eta  + ⎝- 2⋅\\Delta  + 27⋅\\Delta⋅g  + 9⋅\\Delta⋅⎝- G₀  - g ⎠⎠                   \n",
       "─────────────────────────────────────────────────────────────                 \n",
       "                        2                                                     \n",
       "\n",
       "                                                                              \n",
       "──────────────────────────────────────────────────────────────────────────────\n",
       "     _________________________________________________________________________\n",
       "    ╱                                                        _________________\n",
       "   ╱                                                        ╱                 \n",
       "  ╱                          2            ⎛    2    2⎞     ╱           3   ⎛  \n",
       " ╱            3   27⋅\\Delta⋅g    9⋅\\Delta⋅⎝- G₀  - g ⎠   ╲╱   - 4⋅\\zeta  + ⎝- \n",
       "╱     - \\Delta  + ──────────── + ───────────────────── + ─────────────────────\n",
       "                       2                   2                                  \n",
       "──────────────────────────────────────────────────────────────────────────────\n",
       "                                                          3                   \n",
       "                                                                              \n",
       "                                                                              \n",
       "                                                                              \n",
       "                                                                              \n",
       "                                                                              \n",
       "                                                                              \n",
       "\n",
       "                                                    \n",
       "────────────────────────────────────────────────────\n",
       "____________________________________________________\n",
       "___________________________________________________ \n",
       "                                                 2  \n",
       "        3              2            ⎛    2    2⎞⎞   \n",
       "2⋅\\Delta  + 27⋅\\Delta⋅g  + 9⋅\\Delta⋅⎝- G₀  - g ⎠⎠   \n",
       "─────────────────────────────────────────────────── \n",
       "              2                                     \n",
       "────────────────────────────────────────────────────\n",
       "                                                    \n",
       "                                                    \n",
       "                                                    \n",
       "                                                    \n",
       "                                                    \n",
       "                                                    \n",
       "                                                    "
      ]
     },
     "execution_count": 64,
     "metadata": {},
     "output_type": "execute_result"
    }
   ],
   "source": [
    "sym.simplify(vec[2][2][0][1]).subs(xi_expr,xi).subs(zeta_expr,zeta).subs(N_expr,N).subs(N2_expr,N2)"
   ]
  },
  {
   "cell_type": "code",
   "execution_count": 82,
   "metadata": {},
   "outputs": [
    {
     "data": {
      "image/png": "[encoded data removed]",
      "text/latex": [
       "$$\\Delta - \\frac{\\sqrt[3]{2} \\zeta}{\\sqrt[3]{- 2 \\Delta^{3} + 27 \\Delta g^{2} - 9 \\Delta \\left(G_{0}^{2} + g^{2}\\right) + \\sqrt{\\Delta^{2} \\xi^{2} - 4 \\zeta^{3}}}} - \\frac{2^{\\frac{2}{3}}}{2} \\sqrt[3]{- 2 \\Delta^{3} + 27 \\Delta g^{2} - 9 \\Delta \\left(G_{0}^{2} + g^{2}\\right) + \\sqrt{\\Delta^{2} \\xi^{2} - 4 \\zeta^{3}}}$$"
      ],
      "text/plain": [
       "                                                                              \n",
       "                                                                              \n",
       "                                              3 ___                           \n",
       "                                              ╲╱ 2 ⋅\\zeta                     \n",
       "\\Delta - ─────────────────────────────────────────────────────────────────────\n",
       "             _________________________________________________________________\n",
       "            ╱                                                       __________\n",
       "         3 ╱            3              2            ⎛  2    2⎞     ╱       2  \n",
       "         ╲╱   - 2⋅\\Delta  + 27⋅\\Delta⋅g  - 9⋅\\Delta⋅⎝G₀  + g ⎠ + ╲╱  \\Delta ⋅\\\n",
       "\n",
       "                            __________________________________________________\n",
       "                           ╱                                                  \n",
       "                    2/3 3 ╱            3              2            ⎛  2    2⎞ \n",
       "                   2   ⋅╲╱   - 2⋅\\Delta  + 27⋅\\Delta⋅g  - 9⋅\\Delta⋅⎝G₀  + g ⎠ \n",
       "──────────────── - ───────────────────────────────────────────────────────────\n",
       "________________                                               2              \n",
       "_______________                                                               \n",
       "  2          3                                                                \n",
       "xi  - 4⋅\\zeta                                                                 \n",
       "\n",
       "_______________________________\n",
       "     _________________________ \n",
       "    ╱       2    2          3  \n",
       "+ ╲╱  \\Delta ⋅\\xi  - 4⋅\\zeta   \n",
       "───────────────────────────────\n",
       "                               \n",
       "                               \n",
       "                               \n",
       "                               "
      ]
     },
     "metadata": {},
     "output_type": "display_data"
    }
   ],
   "source": [
    "E1_expr = 1/3*(Del-1/sym.cbrt(2)*N_expr)#-sym.cbrt(2)*zeta/N_expr)\n",
    "display(Del-1/sym.cbrt(2)*N_expr-sym.cbrt(2)*zeta/N_expr)\n",
    "sol=sym.solve(Del**2*xi_expr**2-4*zeta_expr**3,Del)"
   ]
  },
  {
   "cell_type": "code",
   "execution_count": 91,
   "metadata": {},
   "outputs": [
    {
     "data": {
      "text/plain": [
       "False"
      ]
     },
     "metadata": {},
     "output_type": "display_data"
    }
   ],
   "source": [
    "N_new = sym.simplify(N_expr.subs(xi,xi_expr).subs(zeta,zeta_expr).subs(Del,sol[3]))\n",
    "zeta_new = sym.simplify(zeta_expr.subs(Del,sol[3]))\n",
    "display(sym.simplify(1/sym.cbrt(2)/N_new*(N_new**2+sym.cbrt(2)*zeta_new))==sol[3])"
   ]
  },
  {
   "cell_type": "code",
   "execution_count": 22,
   "metadata": {},
   "outputs": [
    {
     "name": "stdout",
     "output_type": "stream",
     "text": [
      "(0.5000000000000001+0.8660254037844386j)\n"
     ]
    }
   ],
   "source": [
    "import numpy as np\n",
    "print(np.exp(1j*np.pi/3))"
   ]
  },
  {
   "cell_type": "code",
   "execution_count": 58,
   "metadata": {},
   "outputs": [
    {
     "data": {
      "image/png": "[encoded data removed]",
      "text/latex": [
       "$$\\left [ \\left ( 0, \\quad 1, \\quad \\left [ \\left[\\begin{matrix}- \\frac{G_{0}}{g}\\\\0\\\\1\\end{matrix}\\right]\\right ]\\right ), \\quad \\left ( - \\sqrt{G_{0}^{2} + g^{2}}, \\quad 1, \\quad \\left [ \\left[\\begin{matrix}\\frac{g}{G_{0}}\\\\- \\frac{1}{G_{0}} \\sqrt{G_{0}^{2} + g^{2}}\\\\1\\end{matrix}\\right]\\right ]\\right ), \\quad \\left ( \\sqrt{G_{0}^{2} + g^{2}}, \\quad 1, \\quad \\left [ \\left[\\begin{matrix}\\frac{g}{G_{0}}\\\\\\frac{1}{G_{0}} \\sqrt{G_{0}^{2} + g^{2}}\\\\1\\end{matrix}\\right]\\right ]\\right )\\right ]$$"
      ],
      "text/plain": [
       "⎡                  ⎛    __________                        ⎞  ⎛   __________   \n",
       "⎢⎛      ⎡⎡-G₀ ⎤⎤⎞  ⎜   ╱   2    2      ⎡⎡      g        ⎤⎤⎟  ⎜  ╱   2    2    \n",
       "⎢⎜0, 1, ⎢⎢────⎥⎥⎟, ⎜-╲╱  G₀  + g  , 1, ⎢⎢      ──       ⎥⎥⎟, ⎜╲╱  G₀  + g  , 1\n",
       "⎢⎜      ⎢⎢ g  ⎥⎥⎟  ⎜                   ⎢⎢      G₀       ⎥⎥⎟  ⎜                \n",
       "⎢⎜      ⎢⎢    ⎥⎥⎟  ⎜                   ⎢⎢               ⎥⎥⎟  ⎜                \n",
       "⎢⎜      ⎢⎢ 0  ⎥⎥⎟  ⎜                   ⎢⎢    __________ ⎥⎥⎟  ⎜                \n",
       "⎢⎜      ⎢⎢    ⎥⎥⎟  ⎜                   ⎢⎢   ╱   2    2  ⎥⎥⎟  ⎜                \n",
       "⎢⎝      ⎣⎣ 1  ⎦⎦⎠  ⎜                   ⎢⎢-╲╱  G₀  + g   ⎥⎥⎟  ⎜                \n",
       "⎢                  ⎜                   ⎢⎢───────────────⎥⎥⎟  ⎜                \n",
       "⎢                  ⎜                   ⎢⎢       G₀      ⎥⎥⎟  ⎜                \n",
       "⎢                  ⎜                   ⎢⎢               ⎥⎥⎟  ⎜                \n",
       "⎣                  ⎝                   ⎣⎣       1       ⎦⎦⎠  ⎝                \n",
       "\n",
       "                   ⎞⎤\n",
       "  ⎡⎡     g       ⎤⎤⎟⎥\n",
       ", ⎢⎢     ──      ⎥⎥⎟⎥\n",
       "  ⎢⎢     G₀      ⎥⎥⎟⎥\n",
       "  ⎢⎢             ⎥⎥⎟⎥\n",
       "  ⎢⎢   __________⎥⎥⎟⎥\n",
       "  ⎢⎢  ╱   2    2 ⎥⎥⎟⎥\n",
       "  ⎢⎢╲╱  G₀  + g  ⎥⎥⎟⎥\n",
       "  ⎢⎢─────────────⎥⎥⎟⎥\n",
       "  ⎢⎢      G₀     ⎥⎥⎟⎥\n",
       "  ⎢⎢             ⎥⎥⎟⎥\n",
       "  ⎣⎣      1      ⎦⎦⎠⎦"
      ]
     },
     "execution_count": 58,
     "metadata": {},
     "output_type": "execute_result"
    }
   ],
   "source": [
    "Dyn0 = sym.Matrix([[0,g,0],[g,0,G0],\\\n",
    "                        [0,G0,0]])\n",
    "Dyn0.eigenvects()"
   ]
  },
  {
   "cell_type": "code",
   "execution_count": null,
   "metadata": {},
   "outputs": [],
   "source": []
  }
 ],
 "metadata": {
  "kernelspec": {
   "display_name": "Python 2",
   "language": "python",
   "name": "python2"
  },
  "language_info": {
   "codemirror_mode": {
    "name": "ipython",
    "version": 2
   },
   "file_extension": ".py",
   "mimetype": "text/x-python",
   "name": "python",
   "nbconvert_exporter": "python",
   "pygments_lexer": "ipython2",
   "version": "2.7.13"
  }
 },
 "nbformat": 4,
 "nbformat_minor": 2
}
