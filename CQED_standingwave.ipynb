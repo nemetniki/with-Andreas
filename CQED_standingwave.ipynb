{
 "cells": [
  {
   "cell_type": "markdown",
   "metadata": {},
   "source": [
    "# Cavity QED with standing wave feedback"
   ]
  },
  {
   "cell_type": "markdown",
   "metadata": {},
   "source": [
    "$$\\def\\ket#1{\\left|#1\\right\\rangle}\n",
    "\\def\\timedel#1{\\left(\\tilde{t}-\\tilde{\\tau}_{#1}\\right)}$$\n",
    "\n",
    "## Model\n",
    "\n",
    "A cavity of length $L$ and frequency $\\omega_0$ is coupled to the outside world with a semitransparent mirror. The output field is reflected back from a perfectly reflecting mirror at distance $L'$. This induces a time-delayed feedback of the output signal into the cavity in the form\n",
    "\n",
    "\\begin{align}\n",
    "G_k(t) = G_0\\sin{(q_kL)}e^{i(\\omega_0-\\omega_k)t} = G_0(-1)^ke^{-i\\omega_k^\\prime t}\n",
    "\\end{align}\n",
    "where\n",
    "\\begin{align}\n",
    "\\omega_k^\\prime &= \\frac{(2k+1)\\pi}{\\tau}\\\\\n",
    "\\tau &= \\frac{2L}{c}\n",
    "\\end{align}\n",
    "\n",
    "A two level system is interacting with the resonant cavity mode with a coupling strength $\\gamma$. \n",
    "Everything is considered in the interaction picture, where the Hamiltonian can be expressed as\n",
    "\\begin{align}\n",
    "H = -\\hbar\\gamma(\\sigma^-a^\\dagger + \\sigma^+a) - \\hbar\\sum_{k=0}^\\infty\\left[G_k(t)a^\\dagger d_k + G_k^*(t)d_k^\\dagger a\\right]\n",
    "\\end{align}\n",
    "\n",
    "## One-excitation manifold\n",
    "\n",
    "The considered wave function has the form\n",
    "$$\\ket{\\psi}=c_e(t)\\ket{e,0,\\{0\\}}+c_g(t)\\ket{g,1,\\{0\\}}+\\sum_kc_{g,k}(t)\\ket{g,0,\\{k\\}}$$\n",
    "\n",
    "## Equations of motion\n",
    "\n",
    "\\begin{align}\n",
    "\\partial_t c_e &= i\\gamma c_g(t)\\\\\n",
    "\\partial_t c_g &= i\\gamma c_e(t) - \\underbrace{|G_0|^2\\tau}_{2\\kappa}\\sum_{k=0}^{\\infty}(-1)^kc_g(t-k\\tau)\\Theta(t-k\\tau)\n",
    "\\end{align}\n"
   ]
  },
  {
   "cell_type": "code",
   "execution_count": 1,
   "metadata": {
    "collapsed": true
   },
   "outputs": [],
   "source": [
    "#%matplotlib inline\n",
    "from math import *\n",
    "import numpy as np\n",
    "import pylab as pl\n",
    "import matplotlib.pyplot as plt\n",
    "from pydelay import dde23"
   ]
  },
  {
   "cell_type": "code",
   "execution_count": 41,
   "metadata": {
    "collapsed": false
   },
   "outputs": [],
   "source": [
    "eqnsST1 = {\n",
    "    'ce:c' : '(ii*gam)*cg',\n",
    "    'cg:c' : '(ii*gam)*ce - 2*kap*(cg-cg(t-tau)*Heavi(t-tau))'\n",
    "    }\n",
    "\n",
    "eqnsSTnofb = {\n",
    "    'ce:c' : '(ii*gam)*cg',\n",
    "    'cg:c' : '(ii*gam)*ce - 2*kap*cg'\n",
    "    }\n",
    "\n",
    "eqnsSTmany = {\n",
    "    'ce:c' : '(ii*gam)*cg',\n",
    "    'cg:c' : '(ii*gam)*ce - 2*kap*(cg-cg(t-tau)*Heavi(t-tau)+cg(t-2*tau)*Heavi(t-2*tau)\\\n",
    "    -cg(t-3*tau)*Heavi(t-3*tau)+cg(t-4*tau)*Heavi(t-4*tau)-cg(t-5*tau)*Heavi(t-5*tau)\\\n",
    "    +cg(t-6*tau)*Heavi(t-6*tau)-cg(t-7*tau)*Heavi(t-7*tau)+cg(t-8*tau)*Heavi(t-8*tau)\\\n",
    "    -cg(t-9*tau)*Heavi(t-9*tau)+cg(t-10*tau)*Heavi(t-10*tau)-cg(t-11*tau)*Heavi(t-11*tau)\\\n",
    "    +cg(t-12*tau)*Heavi(t-12*tau)-cg(t-13*tau)*Heavi(t-13*tau)+cg(t-14*tau)*Heavi(t-14*tau)\\\n",
    "    -cg(t-15*tau)*Heavi(t-15*tau))'\n",
    "    }\n",
    "    \n",
    "paramsST = {\n",
    "            'gam' : 1.,\n",
    "            'kap' : 1.000000,\n",
    "            'tau' : 2.*pi\n",
    "                        }\n",
    "\n",
    "mycode = \"\"\"\n",
    "double Heavi(double t) {\n",
    "    if(t>=0)\n",
    "        return 1.0;\n",
    "    else\n",
    "        return 0.0;\n",
    "}\n",
    "\"\"\"\n",
    "\n",
    "ddeST1 = dde23(eqns=eqnsST1, params=paramsST)\n",
    "ddeST1.set_sim_params(tfinal=16*paramsST['tau'], dtmax=.001)\n",
    "ddeSTnofb = dde23(eqns=eqnsSTnofb, params=paramsST)\n",
    "ddeSTnofb.set_sim_params(tfinal=16*paramsST['tau'], dtmax=.001)\n",
    "ddeSTmany = dde23(eqns=eqnsSTmany, params=paramsST)\n",
    "ddeSTmany.set_sim_params(tfinal=16*paramsST['tau'], dtmax=.001)"
   ]
  },
  {
   "cell_type": "code",
   "execution_count": 42,
   "metadata": {
    "collapsed": true
   },
   "outputs": [],
   "source": [
    "histfuncST = { 'ce': lambda t: 1,\n",
    "             'cg': lambda t: 0\n",
    "             }\n",
    "ddeST1.hist_from_funcs(histfuncST, 51)\n",
    "ddeSTnofb.hist_from_funcs(histfuncST, 51)\n",
    "ddeSTmany.hist_from_funcs(histfuncST, 51)"
   ]
  },
  {
   "cell_type": "code",
   "execution_count": 43,
   "metadata": {
    "collapsed": false
   },
   "outputs": [],
   "source": [
    "ddeST1.run()\n",
    "ddeSTnofb.run()\n",
    "ddeSTmany.run()"
   ]
  },
  {
   "cell_type": "code",
   "execution_count": 45,
   "metadata": {
    "collapsed": false
   },
   "outputs": [],
   "source": [
    "import matplotlib as mpl\n",
    "mpl.rc('font',family='FreeSerif')\n",
    "mpl.rc('xtick',labelsize=22)\n",
    "mpl.rc('ytick',labelsize=22)\n",
    "\n",
    "sol1 = ddeST1.sample(0,3*paramsST['tau'],0.001)\n",
    "tST1  = sol1['t']/paramsST['tau']\n",
    "ceST1 = sol1['ce']\n",
    "cgST1 = sol1['cg']\n",
    "solnofb = ddeSTnofb.sample(0,3*paramsST['tau'],0.001)\n",
    "tSTnofb  = solnofb['t']/paramsST['tau']\n",
    "ceSTnofb = solnofb['ce']\n",
    "cgSTnofb = solnofb['cg']\n",
    "solmany = ddeSTmany.sample(0,3*paramsST['tau'],0.001)\n",
    "tSTmany  = solmany['t']/paramsST['tau']\n",
    "ceSTmany = solmany['ce']\n",
    "cgSTmany = solmany['cg']\n",
    "\n",
    "fsfont = {'fontname':'FreeSerif'}\n",
    "plt.figure(1,figsize=(12,8))\n",
    "plt.clf()\n",
    "plt.plot(tST1,np.abs(cgST1)**2,linewidth=2.0,label='$|c_g|^2$ single-delay',color = 'orange')\n",
    "plt.hold(True)\n",
    "plt.plot(tSTnofb,np.abs(cgSTnofb)**2,linewidth=2.0,label='$|c_g|^2$ no feedback',color='k',ls='--')\n",
    "plt.plot(tSTmany,np.abs(cgSTmany)**2,linewidth=3.0,label='$|c_g|^2$ multi-delay',color='b',ls='-.')\n",
    "plt.xlabel('$t/\\\\tau$',fontsize=30.)\n",
    "plt.ylabel('Photon density',fontsize=30.)\n",
    "plt.legend(loc='best',fontsize = 20)\n",
    "plt.grid(True)\n",
    "plt.figure(2,figsize=(12,8))\n",
    "plt.plot(tST1,np.abs(ceST1)**2,linewidth=2.0,label='$|c_e|^2$ single-delay',color = 'orange')\n",
    "plt.hold(True)\n",
    "plt.ylim(0,1)\n",
    "plt.plot(tSTnofb,np.abs(ceSTnofb)**2,linewidth=2.0,label='$|c_e|^2$ no feedback',color='k',ls='--')\n",
    "plt.plot(tSTmany,np.abs(ceSTmany)**2,linewidth=3.0,label='$|c_e|^2$ multi-delay',color='b',ls='-.')\n",
    "plt.xlabel('$t/\\\\tau$',fontsize=30.)\n",
    "plt.ylabel('Excitation probability',fontsize=30.)\n",
    "plt.legend(loc='best',fontsize = 20)\n",
    "plt.grid(True)\n",
    "plt.show()"
   ]
  },
  {
   "cell_type": "code",
   "execution_count": null,
   "metadata": {
    "collapsed": true
   },
   "outputs": [],
   "source": []
  },
  {
   "cell_type": "code",
   "execution_count": null,
   "metadata": {
    "collapsed": true
   },
   "outputs": [],
   "source": []
  }
 ],
 "metadata": {
  "anaconda-cloud": {},
  "kernelspec": {
   "display_name": "Python [conda env:py27]",
   "language": "python",
   "name": "conda-env-py27-py"
  },
  "language_info": {
   "codemirror_mode": {
    "name": "ipython",
    "version": 2
   },
   "file_extension": ".py",
   "mimetype": "text/x-python",
   "name": "python",
   "nbconvert_exporter": "python",
   "pygments_lexer": "ipython2",
   "version": "2.7.12"
  }
 },
 "nbformat": 4,
 "nbformat_minor": 0
}
